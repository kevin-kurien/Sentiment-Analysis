{
 "cells": [
  {
   "cell_type": "code",
   "execution_count": 130,
   "metadata": {},
   "outputs": [],
   "source": [
    "import pandas as pd\n",
    "from sklearn.feature_extraction.text import CountVectorizer,TfidfVectorizer\n",
    "from sklearn.model_selection import train_test_split\n",
    "from sklearn.pipeline import make_pipeline\n",
    "from sklearn.metrics import confusion_matrix,classification_report\n",
    "from bs4 import BeautifulSoup\n",
    "import re\n",
    "from sklearn.svm import LinearSVC\n",
    "from sklearn.naive_bayes import MultinomialNB\n",
    "from sklearn.feature_extraction import stop_words\n",
    "from nltk.corpus import stopwords\n",
    "from nltk import word_tokenize\n",
    "from nltk import stem\n"
   ]
  },
  {
   "cell_type": "code",
   "execution_count": 51,
   "metadata": {},
   "outputs": [
    {
     "data": {
      "text/html": [
       "<div>\n",
       "<style scoped>\n",
       "    .dataframe tbody tr th:only-of-type {\n",
       "        vertical-align: middle;\n",
       "    }\n",
       "\n",
       "    .dataframe tbody tr th {\n",
       "        vertical-align: top;\n",
       "    }\n",
       "\n",
       "    .dataframe thead th {\n",
       "        text-align: right;\n",
       "    }\n",
       "</style>\n",
       "<table border=\"1\" class=\"dataframe\">\n",
       "  <thead>\n",
       "    <tr style=\"text-align: right;\">\n",
       "      <th></th>\n",
       "      <th>review</th>\n",
       "      <th>sentiment</th>\n",
       "    </tr>\n",
       "  </thead>\n",
       "  <tbody>\n",
       "    <tr>\n",
       "      <th>0</th>\n",
       "      <td>One of the other reviewers has mentioned that ...</td>\n",
       "      <td>positive</td>\n",
       "    </tr>\n",
       "    <tr>\n",
       "      <th>1</th>\n",
       "      <td>A wonderful little production. &lt;br /&gt;&lt;br /&gt;The...</td>\n",
       "      <td>positive</td>\n",
       "    </tr>\n",
       "    <tr>\n",
       "      <th>2</th>\n",
       "      <td>I thought this was a wonderful way to spend ti...</td>\n",
       "      <td>positive</td>\n",
       "    </tr>\n",
       "    <tr>\n",
       "      <th>3</th>\n",
       "      <td>Basically there's a family where a little boy ...</td>\n",
       "      <td>negative</td>\n",
       "    </tr>\n",
       "    <tr>\n",
       "      <th>4</th>\n",
       "      <td>Petter Mattei's \"Love in the Time of Money\" is...</td>\n",
       "      <td>positive</td>\n",
       "    </tr>\n",
       "  </tbody>\n",
       "</table>\n",
       "</div>"
      ],
      "text/plain": [
       "                                              review sentiment\n",
       "0  One of the other reviewers has mentioned that ...  positive\n",
       "1  A wonderful little production. <br /><br />The...  positive\n",
       "2  I thought this was a wonderful way to spend ti...  positive\n",
       "3  Basically there's a family where a little boy ...  negative\n",
       "4  Petter Mattei's \"Love in the Time of Money\" is...  positive"
      ]
     },
     "execution_count": 51,
     "metadata": {},
     "output_type": "execute_result"
    }
   ],
   "source": [
    "df = pd.read_csv(\"IMDB Dataset.csv\")\n",
    "df.head()"
   ]
  },
  {
   "cell_type": "code",
   "execution_count": 52,
   "metadata": {},
   "outputs": [
    {
     "data": {
      "text/plain": [
       "(50000, 2)"
      ]
     },
     "execution_count": 52,
     "metadata": {},
     "output_type": "execute_result"
    }
   ],
   "source": [
    "df.shape"
   ]
  },
  {
   "cell_type": "code",
   "execution_count": 68,
   "metadata": {
    "collapsed": true
   },
   "outputs": [
    {
     "data": {
      "text/plain": [
       "0        One of the other reviewers has mentioned that ...\n",
       "1        A wonderful little production The filming tech...\n",
       "2        I thought this was a wonderful way to spend ti...\n",
       "3        Basically theres a family where a little boy J...\n",
       "4        Petter Matteis Love in the Time of Money is a ...\n",
       "5        Probably my alltime favorite movie a story of ...\n",
       "6        I sure would like to see a resurrection of a u...\n",
       "7        This show was an amazing fresh  innovative ide...\n",
       "8        Encouraged by the positive comments about this...\n",
       "9        If you like original gut wrenching laughter yo...\n",
       "10       Phil the Alien is one of those quirky films wh...\n",
       "11       I saw this movie when I was about 12 when it c...\n",
       "12       So im not a big fan of Bolls work but then aga...\n",
       "13       The cast played ShakespeareShakespeare lostI a...\n",
       "14       This a fantastic movie of three prisoners who ...\n",
       "15       Kind of drawn in by the erotic scenes only to ...\n",
       "16       Some films just simply should not be remade Th...\n",
       "17       This movie made it into one of my top 10 most ...\n",
       "18       I remember this filmit was the first film i ha...\n",
       "19       An awful film It must have been up against som...\n",
       "20       After the success of Die Hard and its sequels ...\n",
       "21       I had the terrible misfortune of having to vie...\n",
       "22       What an absolutely stunning movie if you have ...\n",
       "23       First of all lets get a few things straight he...\n",
       "24       This was the worst movie I saw at WorldFest an...\n",
       "25       The Karen Carpenter Story shows a little more ...\n",
       "26       The Cell is an exotic masterpiece a dizzying t...\n",
       "27       This film tried to be too many things all at o...\n",
       "28       This movie was so frustrating Everything seeme...\n",
       "29       War movie is a Hollywood genre that has been d...\n",
       "                               ...                        \n",
       "49970    This movie is a total dog I found myself strai...\n",
       "49971    With several name actors Lance Henrikson David...\n",
       "49972    The future of fantasy never looked so dark Chr...\n",
       "49973    The title leads viewers to believe that this i...\n",
       "49974    For the most part Michael is a disaster  ten m...\n",
       "49975    90 minutes of MindyMindy is a tease to boyfrie...\n",
       "49976    I saw the movie in the theater at its release ...\n",
       "49977    Dog Bite Dog isnt going to be for everyone but...\n",
       "49978    Halloween is one of those movies that gets you...\n",
       "49979    I saw this with high expectations Come on it i...\n",
       "49980    A stunning film of high qualityApparently base...\n",
       "49981    And I repeat please do not see this movie This...\n",
       "49982    To be hones I used to like this show and watch...\n",
       "49983    I loved it having been a fan of the original s...\n",
       "49984    Hello it is I Derrick Cannon and I welcome you...\n",
       "49985    Imaginary Heroes is clearly the best film of t...\n",
       "49986    This movie is a disgrace to the Major League F...\n",
       "49987    A remake of Alejandro Amenabars Abre los Ojos ...\n",
       "49988    When I first tuned in on this morning news I t...\n",
       "49989    I got this one a few weeks ago and love it Its...\n",
       "49990    Lame lame lame A 90minute cringefest thats 89 ...\n",
       "49991    Les Visiteurs the first movie about the mediev...\n",
       "49992    John Garfield plays a Marine who is blinded by...\n",
       "49993    Robert Colomb has two fulltime jobs Hes known ...\n",
       "49994    This is your typical junk comedyThere are almo...\n",
       "49995    I thought this movie did a down right good job...\n",
       "49996    Bad plot bad dialogue bad acting idiotic direc...\n",
       "49997    I am a Catholic taught in parochial elementary...\n",
       "49998    Im going to have to disagree with the previous...\n",
       "49999    No one expects the Star Trek movies to be high...\n",
       "Name: review, Length: 50000, dtype: object"
      ]
     },
     "execution_count": 68,
     "metadata": {},
     "output_type": "execute_result"
    }
   ],
   "source": [
    "# pre-processing of text\n",
    "def strip_html(text):\n",
    "    soup = BeautifulSoup(text, \"html.parser\")\n",
    "    return soup.get_text()\n",
    "\n",
    "#Removing the square brackets\n",
    "def remove_between_square_brackets(text):\n",
    "    return re.sub('\\[[^]]*\\]', '', text)\n",
    "\n",
    "#Removing the unwanted text\n",
    "def remove_special_characters(text, remove_digits=True):\n",
    "    pattern=r'[^a-zA-z0-9\\s]'\n",
    "    text=re.sub(pattern,'',text)\n",
    "    return text\n",
    "def denoise_text(text):\n",
    "    text = strip_html(text)\n",
    "    text = remove_between_square_brackets(text)\n",
    "    text = remove_special_characters(text)\n",
    "    return text\n",
    "#Apply function on review column\n",
    "df['review']=df['review'].apply(denoise_text)\n",
    "df['review']"
   ]
  },
  {
   "cell_type": "code",
   "execution_count": 95,
   "metadata": {},
   "outputs": [
    {
     "data": {
      "text/plain": [
       "0    positive\n",
       "1    positive\n",
       "2    positive\n",
       "3    negative\n",
       "4    positive\n",
       "Name: sentiment, dtype: object"
      ]
     },
     "execution_count": 95,
     "metadata": {},
     "output_type": "execute_result"
    }
   ],
   "source": [
    "train = df.review\n",
    "test = df.sentiment\n",
    "test.head()"
   ]
  },
  {
   "cell_type": "code",
   "execution_count": 96,
   "metadata": {},
   "outputs": [
    {
     "data": {
      "text/html": [
       "<div>\n",
       "<style scoped>\n",
       "    .dataframe tbody tr th:only-of-type {\n",
       "        vertical-align: middle;\n",
       "    }\n",
       "\n",
       "    .dataframe tbody tr th {\n",
       "        vertical-align: top;\n",
       "    }\n",
       "\n",
       "    .dataframe thead th {\n",
       "        text-align: right;\n",
       "    }\n",
       "</style>\n",
       "<table border=\"1\" class=\"dataframe\">\n",
       "  <thead>\n",
       "    <tr style=\"text-align: right;\">\n",
       "      <th></th>\n",
       "      <th>sentiment</th>\n",
       "    </tr>\n",
       "  </thead>\n",
       "  <tbody>\n",
       "    <tr>\n",
       "      <th>0</th>\n",
       "      <td>1</td>\n",
       "    </tr>\n",
       "    <tr>\n",
       "      <th>1</th>\n",
       "      <td>1</td>\n",
       "    </tr>\n",
       "    <tr>\n",
       "      <th>2</th>\n",
       "      <td>1</td>\n",
       "    </tr>\n",
       "    <tr>\n",
       "      <th>3</th>\n",
       "      <td>0</td>\n",
       "    </tr>\n",
       "    <tr>\n",
       "      <th>4</th>\n",
       "      <td>1</td>\n",
       "    </tr>\n",
       "  </tbody>\n",
       "</table>\n",
       "</div>"
      ],
      "text/plain": [
       "   sentiment\n",
       "0          1\n",
       "1          1\n",
       "2          1\n",
       "3          0\n",
       "4          1"
      ]
     },
     "execution_count": 96,
     "metadata": {},
     "output_type": "execute_result"
    }
   ],
   "source": [
    "test = pd.get_dummies(test)\n",
    "test = test.drop([\"negative\"],axis=1)\n",
    "test= test.rename(columns = {\"positive\":\"sentiment\"})\n",
    "test.head()"
   ]
  },
  {
   "cell_type": "code",
   "execution_count": 97,
   "metadata": {},
   "outputs": [
    {
     "data": {
      "text/html": [
       "<div>\n",
       "<style scoped>\n",
       "    .dataframe tbody tr th:only-of-type {\n",
       "        vertical-align: middle;\n",
       "    }\n",
       "\n",
       "    .dataframe tbody tr th {\n",
       "        vertical-align: top;\n",
       "    }\n",
       "\n",
       "    .dataframe thead th {\n",
       "        text-align: right;\n",
       "    }\n",
       "</style>\n",
       "<table border=\"1\" class=\"dataframe\">\n",
       "  <thead>\n",
       "    <tr style=\"text-align: right;\">\n",
       "      <th></th>\n",
       "      <th>sentiment</th>\n",
       "    </tr>\n",
       "  </thead>\n",
       "  <tbody>\n",
       "    <tr>\n",
       "      <th>0</th>\n",
       "      <td>1</td>\n",
       "    </tr>\n",
       "    <tr>\n",
       "      <th>1</th>\n",
       "      <td>1</td>\n",
       "    </tr>\n",
       "    <tr>\n",
       "      <th>2</th>\n",
       "      <td>1</td>\n",
       "    </tr>\n",
       "    <tr>\n",
       "      <th>3</th>\n",
       "      <td>0</td>\n",
       "    </tr>\n",
       "    <tr>\n",
       "      <th>4</th>\n",
       "      <td>1</td>\n",
       "    </tr>\n",
       "  </tbody>\n",
       "</table>\n",
       "</div>"
      ],
      "text/plain": [
       "   sentiment\n",
       "0          1\n",
       "1          1\n",
       "2          1\n",
       "3          0\n",
       "4          1"
      ]
     },
     "execution_count": 97,
     "metadata": {},
     "output_type": "execute_result"
    }
   ],
   "source": [
    "test.head()"
   ]
  },
  {
   "cell_type": "code",
   "execution_count": 56,
   "metadata": {
    "collapsed": true
   },
   "outputs": [
    {
     "name": "stdout",
     "output_type": "stream",
     "text": [
      "                                                  review\n",
      "0      One of the other reviewers has mentioned that ...\n",
      "1      A wonderful little production. <br /><br />The...\n",
      "2      I thought this was a wonderful way to spend ti...\n",
      "3      Basically there's a family where a little boy ...\n",
      "4      Petter Mattei's \"Love in the Time of Money\" is...\n",
      "5      Probably my all-time favorite movie, a story o...\n",
      "6      I sure would like to see a resurrection of a u...\n",
      "7      This show was an amazing, fresh & innovative i...\n",
      "8      Encouraged by the positive comments about this...\n",
      "9      If you like original gut wrenching laughter yo...\n",
      "10     Phil the Alien is one of those quirky films wh...\n",
      "11     I saw this movie when I was about 12 when it c...\n",
      "12     So im not a big fan of Boll's work but then ag...\n",
      "13     The cast played Shakespeare.<br /><br />Shakes...\n",
      "14     This a fantastic movie of three prisoners who ...\n",
      "15     Kind of drawn in by the erotic scenes, only to...\n",
      "16     Some films just simply should not be remade. T...\n",
      "17     This movie made it into one of my top 10 most ...\n",
      "18     I remember this film,it was the first film i h...\n",
      "19     An awful film! It must have been up against so...\n",
      "20     After the success of Die Hard and it's sequels...\n",
      "21     I had the terrible misfortune of having to vie...\n",
      "22     What an absolutely stunning movie, if you have...\n",
      "23     First of all, let's get a few things straight ...\n",
      "24     This was the worst movie I saw at WorldFest an...\n",
      "25     The Karen Carpenter Story shows a little more ...\n",
      "26     \"The Cell\" is an exotic masterpiece, a dizzyin...\n",
      "27     This film tried to be too many things all at o...\n",
      "28     This movie was so frustrating. Everything seem...\n",
      "29     'War movie' is a Hollywood genre that has been...\n",
      "...                                                  ...\n",
      "49970  This movie is a total dog. I found myself stra...\n",
      "49971  With several name actors (Lance Henrikson, Dav...\n",
      "49972  The future of fantasy never looked so dark! Ch...\n",
      "49973  The title leads viewers to believe that this i...\n",
      "49974  For the most part, \"Michael\" is a disaster  t...\n",
      "49975  90 minutes of Mindy...Mindy is a tease to boyf...\n",
      "49976  I saw the movie in the theater at its release,...\n",
      "49977  Dog Bite Dog isn't going to be for everyone, b...\n",
      "49978  Halloween is one of those movies that gets you...\n",
      "49979  I saw this with high expectations. Come on, it...\n",
      "49980  A stunning film of high quality.<br /><br />Ap...\n",
      "49981  And I repeat, please do not see this movie! Th...\n",
      "49982  To be hones, I used to like this show and watc...\n",
      "49983  I loved it, having been a fan of the original ...\n",
      "49984  Hello it is I Derrick Cannon and I welcome you...\n",
      "49985  Imaginary Heroes is clearly the best film of t...\n",
      "49986  This movie is a disgrace to the Major League F...\n",
      "49987  A remake of Alejandro Amenabar's Abre los Ojos...\n",
      "49988  When I first tuned in on this morning news, I ...\n",
      "49989  I got this one a few weeks ago and love it! It...\n",
      "49990  Lame, lame, lame!!! A 90-minute cringe-fest th...\n",
      "49991  Les Visiteurs, the first movie about the medie...\n",
      "49992  John Garfield plays a Marine who is blinded by...\n",
      "49993  Robert Colomb has two full-time jobs. He's kno...\n",
      "49994  This is your typical junk comedy.<br /><br />T...\n",
      "49995  I thought this movie did a down right good job...\n",
      "49996  Bad plot, bad dialogue, bad acting, idiotic di...\n",
      "49997  I am a Catholic taught in parochial elementary...\n",
      "49998  I'm going to have to disagree with the previou...\n",
      "49999  No one expects the Star Trek movies to be high...\n",
      "\n",
      "[50000 rows x 1 columns]\n"
     ]
    }
   ],
   "source": [
    "print(train)\n"
   ]
  },
  {
   "cell_type": "code",
   "execution_count": 185,
   "metadata": {},
   "outputs": [
    {
     "data": {
      "text/plain": [
       "(40000,)"
      ]
     },
     "execution_count": 185,
     "metadata": {},
     "output_type": "execute_result"
    }
   ],
   "source": [
    "X_train, X_test, y_train, y_test = train_test_split(train, test, test_size=0.20, random_state=42,stratify=test)\n",
    "X_train.shape"
   ]
  },
  {
   "cell_type": "code",
   "execution_count": 186,
   "metadata": {},
   "outputs": [
    {
     "data": {
      "text/plain": [
       "CountVectorizer(analyzer='word', binary=False, decode_error='strict',\n",
       "        dtype=<class 'numpy.int64'>, encoding='utf-8', input='content',\n",
       "        lowercase=True, max_df=1.0, max_features=None, min_df=1,\n",
       "        ngram_range=(1, 1), preprocessor=None, stop_words=None,\n",
       "        strip_accents=None, token_pattern='(?u)\\\\b\\\\w\\\\w+\\\\b',\n",
       "        tokenizer=None, vocabulary=None)"
      ]
     },
     "execution_count": 186,
     "metadata": {},
     "output_type": "execute_result"
    }
   ],
   "source": [
    "cv_model = CountVectorizer()\n",
    "cv_model.fit(X_train[:5])"
   ]
  },
  {
   "cell_type": "code",
   "execution_count": 187,
   "metadata": {},
   "outputs": [
    {
     "data": {
      "text/plain": [
       "485"
      ]
     },
     "execution_count": 187,
     "metadata": {},
     "output_type": "execute_result"
    }
   ],
   "source": [
    "len(cv_model.get_feature_names())"
   ]
  },
  {
   "cell_type": "code",
   "execution_count": 188,
   "metadata": {},
   "outputs": [
    {
     "name": "stderr",
     "output_type": "stream",
     "text": [
      "D:\\anaconda\\lib\\site-packages\\sklearn\\utils\\validation.py:761: DataConversionWarning: A column-vector y was passed when a 1d array was expected. Please change the shape of y to (n_samples, ), for example using ravel().\n",
      "  y = column_or_1d(y, warn=True)\n",
      "D:\\anaconda\\lib\\site-packages\\sklearn\\svm\\base.py:931: ConvergenceWarning: Liblinear failed to converge, increase the number of iterations.\n",
      "  \"the number of iterations.\", ConvergenceWarning)\n"
     ]
    },
    {
     "data": {
      "text/plain": [
       "Pipeline(memory=None,\n",
       "     steps=[('countvectorizer', CountVectorizer(analyzer='word', binary=False, decode_error='strict',\n",
       "        dtype=<class 'numpy.int64'>, encoding='utf-8', input='content',\n",
       "        lowercase=True, max_df=1.0, max_features=None, min_df=1,\n",
       "        ngram_range=(1, 1), preprocessor=None, stop_words=None,\n",
       "  ...ax_iter=1000,\n",
       "     multi_class='ovr', penalty='l2', random_state=None, tol=0.0001,\n",
       "     verbose=0))])"
      ]
     },
     "execution_count": 188,
     "metadata": {},
     "output_type": "execute_result"
    }
   ],
   "source": [
    "pipe = make_pipeline(CountVectorizer(),LinearSVC())\n",
    "pipe.fit(X_train,y_train)"
   ]
  },
  {
   "cell_type": "code",
   "execution_count": 189,
   "metadata": {},
   "outputs": [
    {
     "data": {
      "text/plain": [
       "0.878"
      ]
     },
     "execution_count": 189,
     "metadata": {},
     "output_type": "execute_result"
    }
   ],
   "source": [
    "pipe.score(X_test,y_test)"
   ]
  },
  {
   "cell_type": "code",
   "execution_count": 190,
   "metadata": {},
   "outputs": [
    {
     "data": {
      "text/plain": [
       "192004"
      ]
     },
     "execution_count": 190,
     "metadata": {},
     "output_type": "execute_result"
    }
   ],
   "source": [
    "cv_model.fit(X_train)\n",
    "words = cv_model.get_feature_names()\n",
    "len(words)"
   ]
  },
  {
   "cell_type": "code",
   "execution_count": 191,
   "metadata": {},
   "outputs": [],
   "source": [
    "sk_stopwords = stop_words\n",
    "nltk_stopwords = stopwords"
   ]
  },
  {
   "cell_type": "code",
   "execution_count": 192,
   "metadata": {},
   "outputs": [
    {
     "data": {
      "text/plain": [
       "CountVectorizer(analyzer='word', binary=False, decode_error='strict',\n",
       "        dtype=<class 'numpy.int64'>, encoding='utf-8', input='content',\n",
       "        lowercase=True, max_df=1.0, max_features=None, min_df=1,\n",
       "        ngram_range=(1, 1), preprocessor=None,\n",
       "        stop_words=frozenset({'be', 'four', 'six', 'them', 'ever', 'up', 'its', 'noone', 'you', 'fifteen', 'must', 'first', 'yourselves', 'ten', 'back', 'etc', 'hundred', 'the', 'an', 'myself', 'me', 'where', 'per', 'ltd', 'mine', 'until', 'not', 'but', 'himself', 'otherwise', 'forty', 'eight', 'meanwhile',...ow', 'elsewhere', 'else', 'is', 'only', 'that', 'ie', 'there', 'cannot', 'from', 'anyhow', 'hasnt'}),\n",
       "        strip_accents=None, token_pattern='(?u)\\\\b\\\\w\\\\w+\\\\b',\n",
       "        tokenizer=None, vocabulary=None)"
      ]
     },
     "execution_count": 192,
     "metadata": {},
     "output_type": "execute_result"
    }
   ],
   "source": [
    "cv_model = CountVectorizer(stop_words = sk_stopwords.ENGLISH_STOP_WORDS)\n",
    "cv_model.fit(X_train)\n"
   ]
  },
  {
   "cell_type": "code",
   "execution_count": 193,
   "metadata": {},
   "outputs": [
    {
     "data": {
      "text/plain": [
       "191692"
      ]
     },
     "execution_count": 193,
     "metadata": {},
     "output_type": "execute_result"
    }
   ],
   "source": [
    "len(cv_model.get_feature_names())"
   ]
  },
  {
   "cell_type": "code",
   "execution_count": 194,
   "metadata": {},
   "outputs": [
    {
     "data": {
      "text/plain": [
       "0.8701"
      ]
     },
     "execution_count": 194,
     "metadata": {},
     "output_type": "execute_result"
    }
   ],
   "source": [
    "pipe = make_pipeline(CountVectorizer(stop_words = sk_stopwords.ENGLISH_STOP_WORDS),LinearSVC())\n",
    "pipe.fit(X_train,y_train)\n",
    "pipe.score(X_test,y_test)"
   ]
  },
  {
   "cell_type": "code",
   "execution_count": 195,
   "metadata": {},
   "outputs": [
    {
     "data": {
      "text/plain": [
       "CountVectorizer(analyzer='word', binary=False, decode_error='strict',\n",
       "        dtype=<class 'numpy.int64'>, encoding='utf-8', input='content',\n",
       "        lowercase=True, max_df=1.0, max_features=None, min_df=2,\n",
       "        ngram_range=(1, 1), preprocessor=None,\n",
       "        stop_words=frozenset({'be', 'four', 'six', 'them', 'ever', 'up', 'its', 'noone', 'you', 'fifteen', 'must', 'first', 'yourselves', 'ten', 'back', 'etc', 'hundred', 'the', 'an', 'myself', 'me', 'where', 'per', 'ltd', 'mine', 'until', 'not', 'but', 'himself', 'otherwise', 'forty', 'eight', 'meanwhile',...ow', 'elsewhere', 'else', 'is', 'only', 'that', 'ie', 'there', 'cannot', 'from', 'anyhow', 'hasnt'}),\n",
       "        strip_accents=None, token_pattern='(?u)\\\\b\\\\w\\\\w+\\\\b',\n",
       "        tokenizer=None, vocabulary=None)"
      ]
     },
     "execution_count": 195,
     "metadata": {},
     "output_type": "execute_result"
    }
   ],
   "source": [
    "cv_model = CountVectorizer(stop_words = sk_stopwords.ENGLISH_STOP_WORDS,min_df=2)\n",
    "cv_model.fit(X_train)\n"
   ]
  },
  {
   "cell_type": "code",
   "execution_count": 196,
   "metadata": {},
   "outputs": [
    {
     "data": {
      "text/plain": [
       "70284"
      ]
     },
     "execution_count": 196,
     "metadata": {},
     "output_type": "execute_result"
    }
   ],
   "source": [
    "len(cv_model.get_feature_names())"
   ]
  },
  {
   "cell_type": "code",
   "execution_count": 197,
   "metadata": {},
   "outputs": [
    {
     "data": {
      "text/plain": [
       "0.8686"
      ]
     },
     "execution_count": 197,
     "metadata": {},
     "output_type": "execute_result"
    }
   ],
   "source": [
    "pipe = make_pipeline(CountVectorizer(stop_words = sk_stopwords.ENGLISH_STOP_WORDS,min_df=2),LinearSVC())\n",
    "pipe.fit(X_train,y_train)\n",
    "pipe.score(X_test,y_test)"
   ]
  },
  {
   "cell_type": "code",
   "execution_count": 198,
   "metadata": {},
   "outputs": [],
   "source": [
    "class LemmaTokenizer(object):\n",
    "    def __init__(self):\n",
    "        self.wnl = stem.WordNetLemmatizer()\n",
    "    def __call__(self, doc):\n",
    "        return [self.wnl.lemmatize(t) for t in word_tokenize(doc)]"
   ]
  },
  {
   "cell_type": "code",
   "execution_count": 199,
   "metadata": {},
   "outputs": [
    {
     "name": "stderr",
     "output_type": "stream",
     "text": [
      "D:\\anaconda\\lib\\site-packages\\sklearn\\feature_extraction\\text.py:301: UserWarning: Your stop_words may be inconsistent with your preprocessing. Tokenizing the stop words generated tokens ['ha', 'le', 'u', 'wa'] not in stop_words.\n",
      "  'stop_words.' % sorted(inconsistent))\n"
     ]
    },
    {
     "data": {
      "text/plain": [
       "CountVectorizer(analyzer='word', binary=False, decode_error='strict',\n",
       "        dtype=<class 'numpy.int64'>, encoding='utf-8', input='content',\n",
       "        lowercase=True, max_df=1.0, max_features=None, min_df=2,\n",
       "        ngram_range=(1, 1), preprocessor=None,\n",
       "        stop_words=frozenset({'be', 'four', 'six', 'them', 'ever', 'up', 'its', 'noone', 'you', 'fifteen', 'must', 'first', 'yourselves', 'ten', 'back', 'etc', 'hundred', 'the', 'an', 'myself', 'me', 'where', 'per', 'ltd', 'mine', 'until', 'not', 'but', 'himself', 'otherwise', 'forty', 'eight', 'meanwhile',...ow', 'elsewhere', 'else', 'is', 'only', 'that', 'ie', 'there', 'cannot', 'from', 'anyhow', 'hasnt'}),\n",
       "        strip_accents=None, token_pattern='(?u)\\\\b\\\\w\\\\w+\\\\b',\n",
       "        tokenizer=<__main__.LemmaTokenizer object at 0x000001E4C594E8D0>,\n",
       "        vocabulary=None)"
      ]
     },
     "execution_count": 199,
     "metadata": {},
     "output_type": "execute_result"
    }
   ],
   "source": [
    "cv_model = CountVectorizer(tokenizer=LemmaTokenizer(),stop_words=sk_stopwords.ENGLISH_STOP_WORDS,min_df=2)\n",
    "cv_model.fit(X_train)"
   ]
  },
  {
   "cell_type": "code",
   "execution_count": 200,
   "metadata": {},
   "outputs": [
    {
     "data": {
      "text/plain": [
       "63043"
      ]
     },
     "execution_count": 200,
     "metadata": {},
     "output_type": "execute_result"
    }
   ],
   "source": [
    "len(cv_model.get_feature_names())"
   ]
  },
  {
   "cell_type": "code",
   "execution_count": 201,
   "metadata": {},
   "outputs": [
    {
     "data": {
      "text/plain": [
       "0.8674"
      ]
     },
     "execution_count": 201,
     "metadata": {},
     "output_type": "execute_result"
    }
   ],
   "source": [
    "# CountVectorizer with linearsvc,tokenizer\n",
    "pipe = make_pipeline(CountVectorizer(tokenizer=LemmaTokenizer(),stop_words=sk_stopwords.ENGLISH_STOP_WORDS,min_df=2),LinearSVC())\n",
    "pipe.fit(X_train,y_train)\n",
    "pipe.score(X_test,y_test)"
   ]
  },
  {
   "cell_type": "code",
   "execution_count": 202,
   "metadata": {},
   "outputs": [
    {
     "data": {
      "text/plain": [
       "0.9002"
      ]
     },
     "execution_count": 202,
     "metadata": {},
     "output_type": "execute_result"
    }
   ],
   "source": [
    "tf_pipe = make_pipeline(TfidfVectorizer(min_df=2),LinearSVC())\n",
    "tf_pipe.fit(X_train,y_train)\n",
    "tf_pipe.score(X_test,y_test)"
   ]
  },
  {
   "cell_type": "code",
   "execution_count": 203,
   "metadata": {},
   "outputs": [
    {
     "data": {
      "text/plain": [
       "0.8616"
      ]
     },
     "execution_count": 203,
     "metadata": {},
     "output_type": "execute_result"
    }
   ],
   "source": [
    "# with tokenizer,tfidf and naive bayes  \n",
    "tf_pipe = make_pipeline(TfidfVectorizer(tokenizer = LemmaTokenizer(),min_df=2,stop_words = sk_stopwords.ENGLISH_STOP_WORDS),\n",
    "                        MultinomialNB())\n",
    "tf_pipe.fit(X_train,y_train)\n",
    "tf_pipe.score(X_test,y_test)"
   ]
  },
  {
   "cell_type": "code",
   "execution_count": 204,
   "metadata": {},
   "outputs": [
    {
     "name": "stderr",
     "output_type": "stream",
     "text": [
      "D:\\anaconda\\lib\\site-packages\\sklearn\\utils\\validation.py:761: DataConversionWarning: A column-vector y was passed when a 1d array was expected. Please change the shape of y to (n_samples, ), for example using ravel().\n",
      "  y = column_or_1d(y, warn=True)\n"
     ]
    },
    {
     "data": {
      "text/plain": [
       "0.8842"
      ]
     },
     "execution_count": 204,
     "metadata": {},
     "output_type": "execute_result"
    }
   ],
   "source": [
    "# removed tokenizer and added ngram\n",
    "\n",
    "tf_pipe = make_pipeline(TfidfVectorizer(ngram_range=(1,3),min_df=2,stop_words = sk_stopwords.ENGLISH_STOP_WORDS),\n",
    "                        MultinomialNB())\n",
    "tf_pipe.fit(X_train,y_train)\n",
    "tf_pipe.score(X_test,y_test)"
   ]
  },
  {
   "cell_type": "code",
   "execution_count": 205,
   "metadata": {},
   "outputs": [
    {
     "name": "stderr",
     "output_type": "stream",
     "text": [
      "D:\\anaconda\\lib\\site-packages\\sklearn\\utils\\validation.py:761: DataConversionWarning: A column-vector y was passed when a 1d array was expected. Please change the shape of y to (n_samples, ), for example using ravel().\n",
      "  y = column_or_1d(y, warn=True)\n"
     ]
    },
    {
     "data": {
      "text/plain": [
       "0.8959"
      ]
     },
     "execution_count": 205,
     "metadata": {},
     "output_type": "execute_result"
    }
   ],
   "source": [
    "# tfid with linearsvc with c=1(best)\n",
    "\n",
    "tf_pipe = make_pipeline(TfidfVectorizer(min_df=2,stop_words = sk_stopwords.ENGLISH_STOP_WORDS),LinearSVC(C=1)                       )\n",
    "tf_pipe.fit(X_train,y_train)\n",
    "tf_pipe.score(X_test,y_test)"
   ]
  },
  {
   "cell_type": "code",
   "execution_count": 206,
   "metadata": {},
   "outputs": [],
   "source": [
    "y_pred = pipe.predict(X_test)"
   ]
  },
  {
   "cell_type": "code",
   "execution_count": 207,
   "metadata": {},
   "outputs": [
    {
     "name": "stdout",
     "output_type": "stream",
     "text": [
      "CountVectorizer with Lemma Tokenizer,LinearSVC,min_df=2\n",
      "\n",
      "[[4342  668]\n",
      " [ 658 4332]]\n",
      "              precision    recall  f1-score   support\n",
      "\n",
      "           0       0.87      0.87      0.87      5010\n",
      "           1       0.87      0.87      0.87      4990\n",
      "\n",
      "   micro avg       0.87      0.87      0.87     10000\n",
      "   macro avg       0.87      0.87      0.87     10000\n",
      "weighted avg       0.87      0.87      0.87     10000\n",
      "\n"
     ]
    }
   ],
   "source": [
    "print(\"CountVectorizer with Lemma Tokenizer,LinearSVC,min_df=2\\n\")\n",
    "print(confusion_matrix(y_pred,y_test))\n",
    "print(classification_report(y_pred,y_test))"
   ]
  },
  {
   "cell_type": "code",
   "execution_count": 208,
   "metadata": {},
   "outputs": [],
   "source": [
    "tfy_pred = tf_pipe.predict(X_test)"
   ]
  },
  {
   "cell_type": "code",
   "execution_count": 209,
   "metadata": {},
   "outputs": [
    {
     "name": "stdout",
     "output_type": "stream",
     "text": [
      "Tfidf with min_df=2,LinearSVC \n",
      "\n",
      "[[4450  491]\n",
      " [ 550 4509]]\n",
      "              precision    recall  f1-score   support\n",
      "\n",
      "           0       0.89      0.90      0.90      4941\n",
      "           1       0.90      0.89      0.90      5059\n",
      "\n",
      "   micro avg       0.90      0.90      0.90     10000\n",
      "   macro avg       0.90      0.90      0.90     10000\n",
      "weighted avg       0.90      0.90      0.90     10000\n",
      "\n"
     ]
    }
   ],
   "source": [
    "print(\"Tfidf with min_df=2,LinearSVC \\n\")\n",
    "print(confusion_matrix(tfy_pred,y_test))\n",
    "print(classification_report(tfy_pred,y_test))"
   ]
  },
  {
   "cell_type": "code",
   "execution_count": 241,
   "metadata": {},
   "outputs": [],
   "source": []
  },
  {
   "cell_type": "code",
   "execution_count": 247,
   "metadata": {},
   "outputs": [
    {
     "name": "stdout",
     "output_type": "stream",
     "text": [
      "a\n",
      "a\n",
      "a\n",
      "a\n",
      "a\n",
      "a\n",
      "a\n",
      "a\n",
      "b\n",
      "b\n",
      "a\n",
      "a\n",
      "a\n",
      "a\n",
      "4\n"
     ]
    }
   ],
   "source": []
  },
  {
   "cell_type": "code",
   "execution_count": null,
   "metadata": {},
   "outputs": [],
   "source": []
  }
 ],
 "metadata": {
  "kernelspec": {
   "display_name": "Python 3",
   "language": "python",
   "name": "python3"
  },
  "language_info": {
   "codemirror_mode": {
    "name": "ipython",
    "version": 3
   },
   "file_extension": ".py",
   "mimetype": "text/x-python",
   "name": "python",
   "nbconvert_exporter": "python",
   "pygments_lexer": "ipython3",
   "version": "3.7.3"
  }
 },
 "nbformat": 4,
 "nbformat_minor": 2
}
